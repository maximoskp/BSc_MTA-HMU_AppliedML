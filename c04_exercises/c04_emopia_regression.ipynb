{
  "nbformat": 4,
  "nbformat_minor": 0,
  "metadata": {
    "colab": {
      "provenance": []
    },
    "kernelspec": {
      "name": "python3",
      "display_name": "Python 3"
    },
    "language_info": {
      "name": "python"
    }
  },
  "cells": [
    {
      "cell_type": "code",
      "execution_count": null,
      "metadata": {
        "colab": {
          "base_uri": "https://localhost:8080/"
        },
        "id": "p0SdAh_J6JZz",
        "outputId": "92bf05c7-a429-48cd-af09-d690518b6551"
      },
      "outputs": [
        {
          "output_type": "stream",
          "name": "stdout",
          "text": [
            "Drive already mounted at /content/drive; to attempt to forcibly remount, call drive.mount(\"/content/drive\", force_remount=True).\n"
          ]
        }
      ],
      "source": [
        "from google.colab import drive\n",
        "drive.mount('/content/drive')\n",
        "\n",
        "import sys\n",
        "if sys.version_info >= (3,8):\n",
        "    import pickle\n",
        "else:\n",
        "    !pip install pickle5\n",
        "    import pickle5 as pickle\n",
        "import os"
      ]
    },
    {
      "cell_type": "code",
      "source": [
        "# load data - data can be found here:\n",
        "# https://drive.google.com/drive/folders/1QJokFJZh1mc6PwskF3M5aWXcUzgzSQ3K?usp=sharing\n",
        "os.listdir('/content/drive/My Drive/')\n",
        "\n",
        "with open('/content/drive/My Drive/Colab_Files/emopia/featuresnp.pickle', 'rb') as f:\n",
        "    featuresnp = pickle.load( f )\n",
        "\n",
        "with open('/content/drive/My Drive/Colab_Files/emopia/domiantQsnp.pickle', 'rb') as f:\n",
        "    dominantQsnp = pickle.load( f )\n",
        "\n",
        "# outputs need to be in range starting from 0\n",
        "dominantQsnp = dominantQsnp - 1\n",
        "\n",
        "print('featuresnp.shape: ', featuresnp.shape)\n",
        "print('dominantQsnp.shape: ', dominantQsnp.shape)"
      ],
      "metadata": {
        "colab": {
          "base_uri": "https://localhost:8080/"
        },
        "id": "Xy5W8MXk9aLE",
        "outputId": "c7ad5ea3-df53-49d4-ba55-a963b43ebe34"
      },
      "execution_count": null,
      "outputs": [
        {
          "output_type": "stream",
          "name": "stdout",
          "text": [
            "featuresnp.shape:  (1078, 17)\n",
            "dominantQsnp.shape:  (1078,)\n"
          ]
        }
      ]
    },
    {
      "cell_type": "code",
      "source": [
        "import matplotlib.pyplot as plt\n",
        "import numpy as np\n",
        "\n",
        "plt.fill_between( np.arange( featuresnp.shape[1] ) , np.min(featuresnp, axis=0), np.max(featuresnp, axis=0) )\n",
        "plt.plot( np.arange( featuresnp.shape[1] ), np.mean(featuresnp, axis=0), 'r-o' )"
      ],
      "metadata": {
        "colab": {
          "base_uri": "https://localhost:8080/",
          "height": 283
        },
        "id": "5CxQa2LCHUgs",
        "outputId": "d698522d-abee-4b4c-8316-966ea16d9eb0"
      },
      "execution_count": null,
      "outputs": [
        {
          "output_type": "execute_result",
          "data": {
            "text/plain": [
              "[<matplotlib.lines.Line2D at 0x7f38688dff70>]"
            ]
          },
          "metadata": {},
          "execution_count": 16
        },
        {
          "output_type": "display_data",
          "data": {
            "text/plain": [
              "<Figure size 432x288 with 1 Axes>"
            ],
            "image/png": "[encoded data removed]"
          },
          "metadata": {
            "needs_background": "light"
          }
        }
      ]
    },
    {
      "cell_type": "code",
      "source": [
        "c = featuresnp[:, 0]\n",
        "print('c.shape', c.shape)\n",
        "print('np.min(c)', np.min(c))\n",
        "print('np.max(c)', np.max(c))\n",
        "print('np.mean(c)', np.mean(c))"
      ],
      "metadata": {
        "colab": {
          "base_uri": "https://localhost:8080/"
        },
        "id": "faF5-I0LNfUJ",
        "outputId": "924322ed-18ff-4092-8e9d-fedb9b51643d"
      },
      "execution_count": null,
      "outputs": [
        {
          "output_type": "stream",
          "name": "stdout",
          "text": [
            "c.shape (1078,)\n",
            "np.min(c) 0.030534351145038167\n",
            "np.max(c) 0.6728624535315985\n",
            "np.mean(c) 0.2440506560141825\n"
          ]
        }
      ]
    },
    {
      "cell_type": "code",
      "source": [
        "# scale features\n",
        "from sklearn.preprocessing import StandardScaler\n",
        "\n",
        "scaler = StandardScaler(with_mean=False, with_std=True)\n",
        "scaled_features = scaler.fit_transform( featuresnp )"
      ],
      "metadata": {
        "id": "KNa0U4D3QAGP"
      },
      "execution_count": null,
      "outputs": []
    },
    {
      "cell_type": "code",
      "source": [
        "plt.fill_between( np.arange( scaled_features.shape[1] ) , np.min(scaled_features, axis=0), np.max(scaled_features, axis=0) )\n",
        "plt.plot( np.arange( scaled_features.shape[1] ), np.mean(scaled_features, axis=0), 'r-o' )"
      ],
      "metadata": {
        "colab": {
          "base_uri": "https://localhost:8080/",
          "height": 283
        },
        "id": "UtCA-BeeQKbZ",
        "outputId": "3a9d65af-f80a-4e14-acda-3b1b026374ca"
      },
      "execution_count": null,
      "outputs": [
        {
          "output_type": "execute_result",
          "data": {
            "text/plain": [
              "[<matplotlib.lines.Line2D at 0x7f3861029ca0>]"
            ]
          },
          "metadata": {},
          "execution_count": 22
        },
        {
          "output_type": "display_data",
          "data": {
            "text/plain": [
              "<Figure size 432x288 with 1 Axes>"
            ],
            "image/png": "[encoded data removed]"
          },
          "metadata": {
            "needs_background": "light"
          }
        }
      ]
    },
    {
      "cell_type": "code",
      "source": [
        "print('dominantQsnp[:10]', dominantQsnp[:10])\n",
        "\n",
        "happysongs = np.zeros( dominantQsnp.shape )\n",
        "\n",
        "print('happysongs.shape', happysongs.shape)\n",
        "print('dominantQsnp.shape', dominantQsnp.shape)\n",
        "\n",
        "happysongs[ dominantQsnp == 0 or dominantQsnp == 3 ]"
      ],
      "metadata": {
        "colab": {
          "base_uri": "https://localhost:8080/"
        },
        "id": "NqVV1Z9PSQ_6",
        "outputId": "360f471b-b5fa-4a2e-9f1a-9dfef8672b0a"
      },
      "execution_count": null,
      "outputs": [
        {
          "output_type": "stream",
          "name": "stdout",
          "text": [
            "dominantQsnp[:10] [2 1 3 0 2 2 0 0 3 3]\n",
            "happysongs.shape (1078,)\n",
            "dominantQsnp.shape (1078,)\n"
          ]
        }
      ]
    },
    {
      "cell_type": "code",
      "source": [
        "x = np.array( [1,2,8,3,4,9] )\n",
        "print('x:', x)\n",
        "\n",
        "print( 'x[ 0 ] = ', x[0] )\n",
        "print( 'x[ 0:3 ] = ', x[0:3] )\n",
        "print( 'x[ -2: ] = ', x[-2:] )\n",
        "print( 'x[ x > 5 ] = ', x[ x > 5 ] )\n",
        "print( 'x[ x <= 2 || x >= 8 ] = ', x[ np.logical_or( x <= 2, x >= 8 ) ] )\n",
        "print( x<=2 )\n",
        "print( x>=8 )\n",
        "print(np.logical_or( x <= 2, x >= 8 ))"
      ],
      "metadata": {
        "colab": {
          "base_uri": "https://localhost:8080/"
        },
        "id": "deHRhrpZToRD",
        "outputId": "652bd6f1-708b-4c19-9e3b-532768f34b43"
      },
      "execution_count": null,
      "outputs": [
        {
          "output_type": "stream",
          "name": "stdout",
          "text": [
            "x: [1 2 8 3 4 9]\n",
            "x[ 0 ] =  1\n",
            "x[ 0:3 ] =  [1 2 8]\n",
            "x[ -2: ] =  [4 9]\n",
            "x[ x > 5 ] =  [8 9]\n",
            "x[ x <= 2 || x >= 8 ] =  [1 2 8 9]\n",
            "[ True  True False False False False]\n",
            "[False False  True False False  True]\n",
            "[ True  True  True False False  True]\n"
          ]
        }
      ]
    }
  ]
}